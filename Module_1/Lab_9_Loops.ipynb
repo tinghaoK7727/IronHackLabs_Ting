{
 "cells": [
  {
   "cell_type": "markdown",
   "metadata": {},
   "source": [
    "# Loops\n",
    "\n",
    "Complete the following set of exercises to solidify your knowledge for Loops."
   ]
  },
  {
   "cell_type": "markdown",
   "metadata": {},
   "source": [
    "#### 1. Print first 10 natural numbers using while loop"
   ]
  },
  {
   "cell_type": "code",
   "execution_count": 5,
   "metadata": {},
   "outputs": [
    {
     "name": "stdout",
     "output_type": "stream",
     "text": [
      "1\n",
      "2\n",
      "3\n",
      "4\n",
      "5\n",
      "6\n",
      "7\n",
      "8\n",
      "9\n",
      "10\n"
     ]
    }
   ],
   "source": [
    "i = 1\n",
    "while i <= 10:\n",
    "    print(i)\n",
    "    i += 1"
   ]
  },
  {
   "cell_type": "markdown",
   "metadata": {},
   "source": [
    "#### 2. Display numbers from a list using loop\n",
    "Write a program to display only those numbers from a list that satisfy the following conditions\n",
    "\n",
    "The number must be divisible by five\n",
    "\n",
    "If the number is greater than 150, then skip it and move to the next number\n",
    "\n",
    "If the number is greater than 500, then stop the loop\n",
    "\n",
    "numbers = [12, 75, 150, 180, 145, 525, 50]"
   ]
  },
  {
   "cell_type": "code",
   "execution_count": 15,
   "metadata": {},
   "outputs": [
    {
     "name": "stdout",
     "output_type": "stream",
     "text": [
      "75\n",
      "145\n"
     ]
    }
   ],
   "source": [
    "numbers = [12, 75, 150, 180, 145, 525, 50]\n",
    "\n",
    "for i in numbers:\n",
    "    if i % 5 == 0:\n",
    "        if i > 500:\n",
    "            break\n",
    "        if i >= 150:\n",
    "            continue\n",
    "        print(i)"
   ]
  },
  {
   "cell_type": "markdown",
   "metadata": {},
   "source": [
    "#### 3.Write a Python program to check the validity of a password (input from users).\n",
    "\n",
    "Validation :\n",
    "\n",
    "At least 1 letter between [a-z] and 1 letter between [A-Z].\n",
    "\n",
    "At least 1 number between [0-9].\n",
    "\n",
    "At least 1 character from [$#@].\n",
    "\n",
    "Minimum length 6 characters.\n",
    "\n",
    "Maximum length 16 characters."
   ]
  },
  {
   "cell_type": "code",
   "execution_count": 6,
   "metadata": {},
   "outputs": [
    {
     "name": "stdout",
     "output_type": "stream",
     "text": [
      "Enter your password: tT0$iii\n",
      "This password is valid.\n"
     ]
    }
   ],
   "source": [
    "import re\n",
    "password = input(\"Enter your password: \")\n",
    "\n",
    "for i in range(len(password)):\n",
    "    if re.findall('[a-z]{1,}', password) and re.findall('[A-Z]{1,}', password):\n",
    "        if re.findall('[0-9]{1,}', password):\n",
    "            if re.findall('[$#@]{1,}', password):\n",
    "                if len(password) >= 6:\n",
    "                    if len(password) <= 16:\n",
    "                        print(\"This password is valid.\")\n",
    "                        break\n",
    "                    else:\n",
    "                        print(\"This password is not valid.\")\n",
    "                        break\n",
    "                else:\n",
    "                    print(\"This password is not valid.\")\n",
    "                    break\n",
    "            else:\n",
    "                print(\"This password is not valid.\")\n",
    "                break\n",
    "        else:\n",
    "            print(\"This password is not valid.\")\n",
    "            break\n",
    "    else:\n",
    "        print(\"This password is not valid.\")\n",
    "        break"
   ]
  },
  {
   "cell_type": "markdown",
   "metadata": {},
   "source": [
    "#### 4. Break the loop when x is 6, and see what happens with the else block"
   ]
  },
  {
   "cell_type": "code",
   "execution_count": 8,
   "metadata": {},
   "outputs": [
    {
     "name": "stdout",
     "output_type": "stream",
     "text": [
      "This happens\n"
     ]
    }
   ],
   "source": [
    "x = 0\n",
    "while x == 6:\n",
    "    break\n",
    "else:\n",
    "    print(\"This happens\")"
   ]
  },
  {
   "cell_type": "markdown",
   "metadata": {},
   "source": [
    "#### 5. Write a Python program to calculate the sum and average of n integer numbers (input from the user). Input 0 to finish.\n"
   ]
  },
  {
   "cell_type": "code",
   "execution_count": 9,
   "metadata": {},
   "outputs": [
    {
     "name": "stdout",
     "output_type": "stream",
     "text": [
      "Please enter an integer: 777777\n",
      "The sum of the number is 42 and the average of the number is 7.0\n"
     ]
    }
   ],
   "source": [
    "number = input(\"Please enter an integer: \")\n",
    "sum_final = 0\n",
    "\n",
    "for i in number:\n",
    "    sum_final += int(i)\n",
    "average = sum_final/len(number)\n",
    "print(\"The sum of the number is\", sum_final, \"and the average of the number is\", average)"
   ]
  }
 ],
 "metadata": {
  "kernelspec": {
   "display_name": "Python 3 (ipykernel)",
   "language": "python",
   "name": "python3"
  },
  "language_info": {
   "codemirror_mode": {
    "name": "ipython",
    "version": 3
   },
   "file_extension": ".py",
   "mimetype": "text/x-python",
   "name": "python",
   "nbconvert_exporter": "python",
   "pygments_lexer": "ipython3",
   "version": "3.9.7"
  }
 },
 "nbformat": 4,
 "nbformat_minor": 2
}
