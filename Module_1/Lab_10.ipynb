{
 "cells": [
  {
   "cell_type": "code",
   "execution_count": 17,
   "id": "11ff648c",
   "metadata": {},
   "outputs": [
    {
     "name": "stdout",
     "output_type": "stream",
     "text": [
      "17\n"
     ]
    }
   ],
   "source": [
    "# Consider an array/list of sheep where some sheep may be missing from their place. We need a function that counts the number of sheep present in the array (true means present).\n",
    "# number of sheep present in the array (true means present).\n",
    "\n",
    "array1 = [True,  True,  True,  False,\n",
    "  True,  True,  True,  True ,\n",
    "  True,  False, True,  False,\n",
    "  True,  False, False, True ,\n",
    "  True,  True,  True,  True ,\n",
    "  False, False, True,  True]\n",
    "\n",
    "# code from here\n",
    "\n",
    "string = str(array1)\n",
    "import re\n",
    "\n",
    "def count_sheeps(sheep):\n",
    "  # TODO May the force be with you\n",
    "    count = len(re.findall('True', string)) \n",
    "    return count\n",
    "result = count_sheeps(array1)\n",
    "print(result)"
   ]
  },
  {
   "cell_type": "code",
   "execution_count": 20,
   "id": "fa435696",
   "metadata": {},
   "outputs": [
    {
     "name": "stdout",
     "output_type": "stream",
     "text": [
      "[1, 3, 5, 7, 9]\n"
     ]
    }
   ],
   "source": [
    "# Take an array and remove every second element from the array. Always keep the first element \n",
    "# and start removing with the next element.\n",
    "\n",
    "# Example:\n",
    "\n",
    "# [\"Keep\", \"Remove\", \"Keep\", \"Remove\", \"Keep\", ...] --> [\"Keep\", \"Keep\", \"Keep\", ...]\n",
    "\n",
    "# None of the arrays will be empty, so you don't have to worry about that!\n",
    "\n",
    "# code from here\n",
    "\n",
    "my_list = [1,2,3,4,5,6,7,8,9,10]\n",
    "\n",
    "def remove_every_other(my_list):\n",
    "    # Your code here!\n",
    "    removed_list = my_list[::2]\n",
    "    return removed_list\n",
    "check = remove_every_other(my_list)\n",
    "print(check)"
   ]
  },
  {
   "cell_type": "code",
   "execution_count": 27,
   "id": "20f1e467",
   "metadata": {},
   "outputs": [
    {
     "name": "stdout",
     "output_type": "stream",
     "text": [
      "[6, 6, 0, 7, 5]\n"
     ]
    }
   ],
   "source": [
    "# Convert number to reversed array of digits\n",
    "# Given a random non-negative number, you have to return the digits of this number within an array in reverse order.\n",
    "\n",
    "# Example:\n",
    "# 348597 => [7,9,5,8,4,3]\n",
    "# 0 => [0]\n",
    "\n",
    "n = 57066\n",
    "ls = []\n",
    "\n",
    "def digitize(n):\n",
    "    n = str(n)\n",
    "    reversed = n[::-1]\n",
    "    for i in reversed:\n",
    "        ls.append(int(i))\n",
    "    return ls\n",
    "result = digitize(n)\n",
    "print(result)"
   ]
  },
  {
   "cell_type": "code",
   "execution_count": 29,
   "id": "73a82784",
   "metadata": {},
   "outputs": [
    {
     "name": "stdout",
     "output_type": "stream",
     "text": [
      "2525369\n"
     ]
    }
   ],
   "source": [
    "# Welcome. In this kata, you are asked to square every digit of a number and concatenate them.\n",
    "\n",
    "# For example, if we run 9119 through the function, 811181 will come out, because 92 is 81 and 12 is 1.\n",
    "\n",
    "# Note: The function accepts an integer and returns an integer\n",
    "\n",
    "def square_digits(num):\n",
    "    final = \"\"\n",
    "    for i in str(num):\n",
    "        final += str(int(i) ** 2)\n",
    "    return int(final)\n",
    "# if num == 5563\n",
    "result = square_digits(5563)\n",
    "print(result)"
   ]
  }
 ],
 "metadata": {
  "kernelspec": {
   "display_name": "Python 3 (ipykernel)",
   "language": "python",
   "name": "python3"
  },
  "language_info": {
   "codemirror_mode": {
    "name": "ipython",
    "version": 3
   },
   "file_extension": ".py",
   "mimetype": "text/x-python",
   "name": "python",
   "nbconvert_exporter": "python",
   "pygments_lexer": "ipython3",
   "version": "3.9.7"
  }
 },
 "nbformat": 4,
 "nbformat_minor": 5
}
