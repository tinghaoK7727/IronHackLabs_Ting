{
 "cells": [
  {
   "cell_type": "markdown",
   "metadata": {},
   "source": [
    "# Intrduction to NumPy\n",
    "\n",
    "\n",
    "#### 1. Import NumPy under the name np."
   ]
  },
  {
   "cell_type": "code",
   "execution_count": 55,
   "metadata": {},
   "outputs": [],
   "source": [
    "# your code here\n",
    "import numpy as np"
   ]
  },
  {
   "cell_type": "markdown",
   "metadata": {},
   "source": [
    "#### 2. Print your NumPy version."
   ]
  },
  {
   "cell_type": "code",
   "execution_count": 57,
   "metadata": {},
   "outputs": [
    {
     "data": {
      "text/plain": [
       "'1.20.3'"
      ]
     },
     "execution_count": 57,
     "metadata": {},
     "output_type": "execute_result"
    }
   ],
   "source": [
    "# your code here\n",
    "np.__version__"
   ]
  },
  {
   "cell_type": "markdown",
   "metadata": {},
   "source": [
    "#### 3. Generate a 2x3x5 3-dimensional array with random values. Assign the array to variable *a*.\n",
    "**Challenge**: there are at least three easy ways that use numpy to generate random arrays. How many ways can you find?"
   ]
  },
  {
   "cell_type": "code",
   "execution_count": 66,
   "metadata": {},
   "outputs": [
    {
     "data": {
      "text/plain": [
       "array([[[0.36507249, 0.46182596, 0.88585323, 0.80985877, 0.58278716],\n",
       "        [0.52814845, 0.71183255, 0.36023499, 0.67367505, 0.25072014],\n",
       "        [0.12377062, 0.84585166, 0.19200417, 0.52487184, 0.27265805]],\n",
       "\n",
       "       [[0.41567369, 0.63005424, 0.83094364, 0.95700994, 0.36272421],\n",
       "        [0.46873633, 0.12816508, 0.22573911, 0.773382  , 0.23061898],\n",
       "        [0.4172743 , 0.4181096 , 0.8061013 , 0.99231974, 0.89321193]]])"
      ]
     },
     "execution_count": 66,
     "metadata": {},
     "output_type": "execute_result"
    }
   ],
   "source": [
    "# Method 1\n",
    "a = np.random.rand(2, 3, 5)\n",
    "a"
   ]
  },
  {
   "cell_type": "code",
   "execution_count": 144,
   "metadata": {},
   "outputs": [
    {
     "data": {
      "text/plain": [
       "array([[[-0.60618427, -1.5456854 , -0.55506834, -0.20713791,\n",
       "          0.18408832],\n",
       "        [-0.63257699,  0.64976872,  1.18544901,  0.80733394,\n",
       "         -0.07894507],\n",
       "        [ 0.39515567,  1.1107711 , -0.50785294, -0.298463  ,\n",
       "         -1.32408696]],\n",
       "\n",
       "       [[-0.17670972,  0.37431948,  1.51018155, -1.03585653,\n",
       "         -2.15939565],\n",
       "        [ 0.88211684, -1.60471274,  0.47059613, -0.21003302,\n",
       "          1.09005239],\n",
       "        [-0.17466841, -0.46444466,  1.71789308,  0.83897087,\n",
       "         -2.25928449]]])"
      ]
     },
     "execution_count": 144,
     "metadata": {},
     "output_type": "execute_result"
    }
   ],
   "source": [
    "# Method 2\n",
    "a = np.random.randn(2, 3, 5)\n",
    "a"
   ]
  },
  {
   "cell_type": "code",
   "execution_count": 147,
   "metadata": {},
   "outputs": [
    {
     "data": {
      "text/plain": [
       "array([[[0.47020874, 0.07512496, 0.54063964, 0.09357563, 0.09772088],\n",
       "        [0.55885522, 0.00898846, 0.11061172, 0.55773027, 0.73685716],\n",
       "        [0.18204807, 0.64355128, 0.04522586, 0.37361981, 0.88323826]],\n",
       "\n",
       "       [[0.42388851, 0.4834682 , 0.97226976, 0.54015006, 0.43195413],\n",
       "        [0.8607179 , 0.716402  , 0.8434714 , 0.41010686, 0.70901482],\n",
       "        [0.14539898, 0.28560081, 0.09660968, 0.87105211, 0.01763644]]])"
      ]
     },
     "execution_count": 147,
     "metadata": {},
     "output_type": "execute_result"
    }
   ],
   "source": [
    "# Method 3\n",
    "a = np.random.random((2,3,5))\n",
    "a"
   ]
  },
  {
   "cell_type": "markdown",
   "metadata": {},
   "source": [
    "#### 4. Print *a*.\n"
   ]
  },
  {
   "cell_type": "code",
   "execution_count": 148,
   "metadata": {},
   "outputs": [
    {
     "name": "stdout",
     "output_type": "stream",
     "text": [
      "[[[0.47020874 0.07512496 0.54063964 0.09357563 0.09772088]\n",
      "  [0.55885522 0.00898846 0.11061172 0.55773027 0.73685716]\n",
      "  [0.18204807 0.64355128 0.04522586 0.37361981 0.88323826]]\n",
      "\n",
      " [[0.42388851 0.4834682  0.97226976 0.54015006 0.43195413]\n",
      "  [0.8607179  0.716402   0.8434714  0.41010686 0.70901482]\n",
      "  [0.14539898 0.28560081 0.09660968 0.87105211 0.01763644]]]\n"
     ]
    }
   ],
   "source": [
    "# your code here\n",
    "print(a)"
   ]
  },
  {
   "cell_type": "markdown",
   "metadata": {},
   "source": [
    "#### 5. Create a 5x2x3 3-dimensional array with all values equaling 1. Assign the array to variable *b*."
   ]
  },
  {
   "cell_type": "code",
   "execution_count": 159,
   "metadata": {},
   "outputs": [],
   "source": [
    "# your code here\n",
    "b = np.array([[[1,1], [1,1], [1,1]], [[1,1], [1,1], [1,1]], \n",
    "              [[1,1], [1,1], [1,1]], [[1,1], [1,1], [1,1]], \n",
    "              [[1,1], [1,1], [1,1]]])"
   ]
  },
  {
   "cell_type": "markdown",
   "metadata": {},
   "source": [
    "#### 6. Print *b*.\n"
   ]
  },
  {
   "cell_type": "code",
   "execution_count": 160,
   "metadata": {},
   "outputs": [
    {
     "name": "stdout",
     "output_type": "stream",
     "text": [
      "[[[1 1]\n",
      "  [1 1]\n",
      "  [1 1]]\n",
      "\n",
      " [[1 1]\n",
      "  [1 1]\n",
      "  [1 1]]\n",
      "\n",
      " [[1 1]\n",
      "  [1 1]\n",
      "  [1 1]]\n",
      "\n",
      " [[1 1]\n",
      "  [1 1]\n",
      "  [1 1]]\n",
      "\n",
      " [[1 1]\n",
      "  [1 1]\n",
      "  [1 1]]]\n"
     ]
    }
   ],
   "source": [
    "# your code here\n",
    "print(b)"
   ]
  },
  {
   "cell_type": "markdown",
   "metadata": {},
   "source": [
    "#### 7. Do *a* and *b* have the same size? How do you prove that in Python code?"
   ]
  },
  {
   "cell_type": "code",
   "execution_count": 161,
   "metadata": {},
   "outputs": [
    {
     "name": "stdout",
     "output_type": "stream",
     "text": [
      "(2, 3, 5)\n",
      "(5, 3, 2)\n"
     ]
    }
   ],
   "source": [
    "# your code here\n",
    "print(a.shape)\n",
    "print(b.shape)\n",
    "# the shapes are not the same"
   ]
  },
  {
   "cell_type": "markdown",
   "metadata": {},
   "source": [
    "#### 8. Are you able to add *a* and *b*? Why or why not?\n"
   ]
  },
  {
   "cell_type": "code",
   "execution_count": 162,
   "metadata": {},
   "outputs": [
    {
     "ename": "ValueError",
     "evalue": "operands could not be broadcast together with shapes (2,3,5) (5,3,2) ",
     "output_type": "error",
     "traceback": [
      "\u001b[0;31m---------------------------------------------------------------------------\u001b[0m",
      "\u001b[0;31mValueError\u001b[0m                                Traceback (most recent call last)",
      "\u001b[0;32m/var/folders/9y/45l79l3x40s95c93b61_6txw0000gn/T/ipykernel_43653/1380499892.py\u001b[0m in \u001b[0;36m<module>\u001b[0;34m\u001b[0m\n\u001b[1;32m      1\u001b[0m \u001b[0;31m# your answer here\u001b[0m\u001b[0;34m\u001b[0m\u001b[0;34m\u001b[0m\u001b[0m\n\u001b[0;32m----> 2\u001b[0;31m \u001b[0mprint\u001b[0m\u001b[0;34m(\u001b[0m\u001b[0ma\u001b[0m\u001b[0;34m+\u001b[0m\u001b[0mb\u001b[0m\u001b[0;34m)\u001b[0m\u001b[0;34m\u001b[0m\u001b[0;34m\u001b[0m\u001b[0m\n\u001b[0m\u001b[1;32m      3\u001b[0m \u001b[0;31m# we cannot add a and b because their shapes are different\u001b[0m\u001b[0;34m\u001b[0m\u001b[0;34m\u001b[0m\u001b[0m\n",
      "\u001b[0;31mValueError\u001b[0m: operands could not be broadcast together with shapes (2,3,5) (5,3,2) "
     ]
    }
   ],
   "source": [
    "# your answer here\n",
    "print(a+b)\n",
    "# we cannot add a and b because their shapes are different"
   ]
  },
  {
   "cell_type": "markdown",
   "metadata": {},
   "source": [
    "#### 9. Transpose *b* so that it has the same structure of *a* (i.e. become a 2x3x5 array). Assign the transposed array to variable *c*."
   ]
  },
  {
   "cell_type": "code",
   "execution_count": 163,
   "metadata": {},
   "outputs": [
    {
     "data": {
      "text/plain": [
       "array([[[1, 1, 1, 1, 1],\n",
       "        [1, 1, 1, 1, 1],\n",
       "        [1, 1, 1, 1, 1]],\n",
       "\n",
       "       [[1, 1, 1, 1, 1],\n",
       "        [1, 1, 1, 1, 1],\n",
       "        [1, 1, 1, 1, 1]]])"
      ]
     },
     "execution_count": 163,
     "metadata": {},
     "output_type": "execute_result"
    }
   ],
   "source": [
    "# your code here\n",
    "c = b.T\n",
    "c"
   ]
  },
  {
   "cell_type": "markdown",
   "metadata": {},
   "source": [
    "#### 10. Try to add *a* and *c*. Now it should work. Assign the sum to variable *d*. But why does it work now?"
   ]
  },
  {
   "cell_type": "code",
   "execution_count": 164,
   "metadata": {},
   "outputs": [
    {
     "data": {
      "text/plain": [
       "array([[[1.47020874, 1.07512496, 1.54063964, 1.09357563, 1.09772088],\n",
       "        [1.55885522, 1.00898846, 1.11061172, 1.55773027, 1.73685716],\n",
       "        [1.18204807, 1.64355128, 1.04522586, 1.37361981, 1.88323826]],\n",
       "\n",
       "       [[1.42388851, 1.4834682 , 1.97226976, 1.54015006, 1.43195413],\n",
       "        [1.8607179 , 1.716402  , 1.8434714 , 1.41010686, 1.70901482],\n",
       "        [1.14539898, 1.28560081, 1.09660968, 1.87105211, 1.01763644]]])"
      ]
     },
     "execution_count": 164,
     "metadata": {},
     "output_type": "execute_result"
    }
   ],
   "source": [
    "# your code/answer here\n",
    "d = a + c\n",
    "d"
   ]
  },
  {
   "cell_type": "markdown",
   "metadata": {},
   "source": [
    "#### 11. Print *a* and *d*. Notice the difference and relation of the two array in terms of the values? Explain."
   ]
  },
  {
   "cell_type": "code",
   "execution_count": 167,
   "metadata": {},
   "outputs": [
    {
     "name": "stdout",
     "output_type": "stream",
     "text": [
      "[[[0.47020874 0.07512496 0.54063964 0.09357563 0.09772088]\n",
      "  [0.55885522 0.00898846 0.11061172 0.55773027 0.73685716]\n",
      "  [0.18204807 0.64355128 0.04522586 0.37361981 0.88323826]]\n",
      "\n",
      " [[0.42388851 0.4834682  0.97226976 0.54015006 0.43195413]\n",
      "  [0.8607179  0.716402   0.8434714  0.41010686 0.70901482]\n",
      "  [0.14539898 0.28560081 0.09660968 0.87105211 0.01763644]]]\n",
      "\n",
      "\n",
      "[[[1.47020874 1.07512496 1.54063964 1.09357563 1.09772088]\n",
      "  [1.55885522 1.00898846 1.11061172 1.55773027 1.73685716]\n",
      "  [1.18204807 1.64355128 1.04522586 1.37361981 1.88323826]]\n",
      "\n",
      " [[1.42388851 1.4834682  1.97226976 1.54015006 1.43195413]\n",
      "  [1.8607179  1.716402   1.8434714  1.41010686 1.70901482]\n",
      "  [1.14539898 1.28560081 1.09660968 1.87105211 1.01763644]]]\n"
     ]
    }
   ],
   "source": [
    "# your code/answer here\n",
    "print(a)\n",
    "print('\\n')\n",
    "print(d)\n",
    "\n",
    "# the values of d is higher than the valuse in a by \"1\""
   ]
  },
  {
   "cell_type": "markdown",
   "metadata": {},
   "source": [
    "#### 12. Multiply *a* and *c*. Assign the result to *e*."
   ]
  },
  {
   "cell_type": "code",
   "execution_count": 168,
   "metadata": {},
   "outputs": [
    {
     "data": {
      "text/plain": [
       "array([[[0.47020874, 0.07512496, 0.54063964, 0.09357563, 0.09772088],\n",
       "        [0.55885522, 0.00898846, 0.11061172, 0.55773027, 0.73685716],\n",
       "        [0.18204807, 0.64355128, 0.04522586, 0.37361981, 0.88323826]],\n",
       "\n",
       "       [[0.42388851, 0.4834682 , 0.97226976, 0.54015006, 0.43195413],\n",
       "        [0.8607179 , 0.716402  , 0.8434714 , 0.41010686, 0.70901482],\n",
       "        [0.14539898, 0.28560081, 0.09660968, 0.87105211, 0.01763644]]])"
      ]
     },
     "execution_count": 168,
     "metadata": {},
     "output_type": "execute_result"
    }
   ],
   "source": [
    "# your code here\n",
    "e = a * c\n",
    "e"
   ]
  },
  {
   "cell_type": "markdown",
   "metadata": {},
   "source": [
    "#### 13. Does *e* equal to *a*? Why or why not?\n"
   ]
  },
  {
   "cell_type": "code",
   "execution_count": 169,
   "metadata": {},
   "outputs": [],
   "source": [
    "# your code/answer here\n",
    "# YEs, e equals to a because here it's a multiplication by elements (not multiplication by matrix)"
   ]
  },
  {
   "cell_type": "markdown",
   "metadata": {},
   "source": [
    "#### 14. Identify the max, min, and mean values in *d*. Assign those values to variables *d_max*, *d_min* and *d_mean*."
   ]
  },
  {
   "cell_type": "code",
   "execution_count": 170,
   "metadata": {},
   "outputs": [
    {
     "name": "stdout",
     "output_type": "stream",
     "text": [
      "1.9722697594428036\n",
      "1.008988455381938\n",
      "1.4395245881825316\n"
     ]
    }
   ],
   "source": [
    "# your code here\n",
    "d_max = np.max(d)\n",
    "d_min = np.min(d)\n",
    "d_mean = np.mean(d)\n",
    "print(d_max)\n",
    "print(d_min)\n",
    "print(d_mean)"
   ]
  },
  {
   "cell_type": "markdown",
   "metadata": {},
   "source": [
    "#### 15. Now we want to label the values in *d*. First create an empty array *f* with the same shape (i.e. 2x3x5) as *d* using `np.empty`.\n"
   ]
  },
  {
   "cell_type": "code",
   "execution_count": 173,
   "metadata": {},
   "outputs": [
    {
     "data": {
      "text/plain": [
       "array([[[0.47020874, 0.07512496, 0.54063964, 0.09357563, 0.09772088],\n",
       "        [0.55885522, 0.00898846, 0.11061172, 0.55773027, 0.73685716],\n",
       "        [0.18204807, 0.64355128, 0.04522586, 0.37361981, 0.88323826]],\n",
       "\n",
       "       [[0.42388851, 0.4834682 , 0.97226976, 0.54015006, 0.43195413],\n",
       "        [0.8607179 , 0.716402  , 0.8434714 , 0.41010686, 0.70901482],\n",
       "        [0.14539898, 0.28560081, 0.09660968, 0.87105211, 0.01763644]]])"
      ]
     },
     "execution_count": 173,
     "metadata": {},
     "output_type": "execute_result"
    }
   ],
   "source": [
    "# your code here\n",
    "f = np.empty([2, 3, 5])\n",
    "f"
   ]
  },
  {
   "cell_type": "markdown",
   "metadata": {},
   "source": [
    "#### 16. Populate the values in *f*. \n",
    "\n",
    "For each value in *d*, if it's larger than *d_min* but smaller than *d_mean*, assign 25 to the corresponding value in *f*. If a value in *d* is larger than *d_mean* but smaller than *d_max*, assign 75 to the corresponding value in *f*. If a value equals to *d_mean*, assign 50 to the corresponding value in *f*. Assign 0 to the corresponding value(s) in *f* for *d_min* in *d*. Assign 100 to the corresponding value(s) in *f* for *d_max* in *d*. In the end, f should have only the following values: 0, 25, 50, 75, and 100.\n",
    "\n",
    "**Note**: you don't have to use Numpy in this question."
   ]
  },
  {
   "cell_type": "code",
   "execution_count": 179,
   "metadata": {},
   "outputs": [
    {
     "name": "stdout",
     "output_type": "stream",
     "text": [
      "[[[75, 25, 75, 25, 25], [75, 0, 25, 75, 75], [25, 75, 25, 25, 75]], [[25, 75, 100, 75, 25], [75, 75, 75, 25, 75], [25, 25, 25, 75, 25]]]\n"
     ]
    }
   ],
   "source": [
    "# your code here\n",
    "f = [[[25 if d_min < i < d_mean\n",
    "      else 75 if d_mean < i < d_max\n",
    "      else 50 if i == d_mean \n",
    "      else 0 if i == d_min\n",
    "      else 100 for i in list1] for list1 in list2] for list2 in d]\n",
    "print(f)"
   ]
  },
  {
   "cell_type": "markdown",
   "metadata": {},
   "source": [
    "#### 17. Print *d* and *f*. Do you have your expected *f*?\n",
    "For instance, if your *d* is:\n",
    "```python\n",
    "[[[1.85836099, 1.67064465, 1.62576044, 1.40243961, 1.88454931],\n",
    "[1.75354326, 1.69403643, 1.36729252, 1.61415071, 1.12104981],\n",
    "[1.72201435, 1.1862918 , 1.87078449, 1.7726778 , 1.88180042]],\n",
    "[[1.44747908, 1.31673383, 1.02000951, 1.52218947, 1.97066381],\n",
    "[1.79129243, 1.74983003, 1.96028037, 1.85166831, 1.65450881],\n",
    "[1.18068344, 1.9587381 , 1.00656599, 1.93402165, 1.73514584]]]\n",
    "```\n",
    "Your *f* should be:\n",
    "```python\n",
    "[[[ 75.,  75.,  75.,  25.,  75.],\n",
    "[ 75.,  75.,  25.,  25.,  25.],\n",
    "[ 75.,  25.,  75.,  75.,  75.]],\n",
    "[[ 25.,  25.,  25.,  25., 100.],\n",
    "[ 75.,  75.,  75.,  75.,  75.],\n",
    "[ 25.,  75.,   0.,  75.,  75.]]]\n",
    "```"
   ]
  },
  {
   "cell_type": "code",
   "execution_count": 180,
   "metadata": {},
   "outputs": [
    {
     "name": "stdout",
     "output_type": "stream",
     "text": [
      "[[[1.47020874 1.07512496 1.54063964 1.09357563 1.09772088]\n",
      "  [1.55885522 1.00898846 1.11061172 1.55773027 1.73685716]\n",
      "  [1.18204807 1.64355128 1.04522586 1.37361981 1.88323826]]\n",
      "\n",
      " [[1.42388851 1.4834682  1.97226976 1.54015006 1.43195413]\n",
      "  [1.8607179  1.716402   1.8434714  1.41010686 1.70901482]\n",
      "  [1.14539898 1.28560081 1.09660968 1.87105211 1.01763644]]]\n",
      "[[[75, 25, 75, 25, 25], [75, 0, 25, 75, 75], [25, 75, 25, 25, 75]], [[25, 75, 100, 75, 25], [75, 75, 75, 25, 75], [25, 25, 25, 75, 25]]]\n"
     ]
    }
   ],
   "source": [
    "# your code here\n",
    "print(d)\n",
    "print(f)"
   ]
  },
  {
   "cell_type": "markdown",
   "metadata": {},
   "source": [
    "#### 18. Bonus question: instead of using numbers (i.e. 0, 25, 50, 75, and 100), use string values  (\"A\", \"B\", \"C\", \"D\", and \"E\") to label the array elements. For the example above, the expected result is:\n",
    "\n",
    "```python\n",
    "[[[ 'D',  'D',  'D',  'B',  'D'],\n",
    "[ 'D',  'D',  'B',  'B',  'B'],\n",
    "[ 'D',  'B',  'D',  'D',  'D']],\n",
    "[[ 'B',  'B',  'B',  'B',  'E'],\n",
    "[ 'D',  'D',  'D',  'D',  'D'],\n",
    "[ 'B',  'D',   'A',  'D', 'D']]]\n",
    "```\n",
    "**Note**: you don't have to use Numpy in this question."
   ]
  },
  {
   "cell_type": "code",
   "execution_count": 181,
   "metadata": {},
   "outputs": [
    {
     "name": "stdout",
     "output_type": "stream",
     "text": [
      "[[['D', 'B', 'D', 'B', 'B'], ['D', 'A', 'B', 'D', 'D'], ['B', 'D', 'B', 'B', 'D']], [['B', 'D', 'E', 'D', 'B'], ['D', 'D', 'D', 'B', 'D'], ['B', 'B', 'B', 'D', 'B']]]\n"
     ]
    }
   ],
   "source": [
    "# your code here\n",
    "f = [[['B' if d_min < i < d_mean\n",
    "      else 'D' if d_mean < i < d_max\n",
    "      else 'C' if i == d_mean \n",
    "      else 'A' if i == d_min\n",
    "      else 'E' for i in list1] for list1 in list2] for list2 in d]\n",
    "print(f)"
   ]
  }
 ],
 "metadata": {
  "kernelspec": {
   "display_name": "Python 3 (ipykernel)",
   "language": "python",
   "name": "python3"
  },
  "language_info": {
   "codemirror_mode": {
    "name": "ipython",
    "version": 3
   },
   "file_extension": ".py",
   "mimetype": "text/x-python",
   "name": "python",
   "nbconvert_exporter": "python",
   "pygments_lexer": "ipython3",
   "version": "3.9.7"
  }
 },
 "nbformat": 4,
 "nbformat_minor": 2
}
