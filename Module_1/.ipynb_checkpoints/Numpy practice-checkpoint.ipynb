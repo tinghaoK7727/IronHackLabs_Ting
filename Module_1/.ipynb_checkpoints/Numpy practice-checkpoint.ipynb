{
 "cells": [
  {
   "cell_type": "code",
   "execution_count": 1,
   "id": "97848110",
   "metadata": {},
   "outputs": [],
   "source": [
    "import numpy as np"
   ]
  },
  {
   "cell_type": "code",
   "execution_count": 2,
   "id": "53f51988",
   "metadata": {},
   "outputs": [],
   "source": [
    "a = [1,2,3,4,5,6,7,8,9]"
   ]
  },
  {
   "cell_type": "code",
   "execution_count": 4,
   "id": "4c9cec7e",
   "metadata": {},
   "outputs": [
    {
     "name": "stdout",
     "output_type": "stream",
     "text": [
      "[1 2 3 4 5 6 7 8 9]\n"
     ]
    }
   ],
   "source": [
    "A = np.array(a)\n",
    "print(A)"
   ]
  },
  {
   "cell_type": "code",
   "execution_count": 7,
   "id": "bb967dac",
   "metadata": {},
   "outputs": [
    {
     "name": "stdout",
     "output_type": "stream",
     "text": [
      "45\n"
     ]
    },
    {
     "data": {
      "text/plain": [
       "45"
      ]
     },
     "execution_count": 7,
     "metadata": {},
     "output_type": "execute_result"
    }
   ],
   "source": [
    "print(sum(a))\n",
    "A.sum()"
   ]
  },
  {
   "cell_type": "code",
   "execution_count": 8,
   "id": "3686d058",
   "metadata": {},
   "outputs": [
    {
     "name": "stdout",
     "output_type": "stream",
     "text": [
      "9\n"
     ]
    },
    {
     "data": {
      "text/plain": [
       "9"
      ]
     },
     "execution_count": 8,
     "metadata": {},
     "output_type": "execute_result"
    }
   ],
   "source": [
    "print(len(a))\n",
    "len(A)"
   ]
  },
  {
   "cell_type": "code",
   "execution_count": 10,
   "id": "e78d856b",
   "metadata": {},
   "outputs": [
    {
     "data": {
      "text/plain": [
       "5.0"
      ]
     },
     "execution_count": 10,
     "metadata": {},
     "output_type": "execute_result"
    }
   ],
   "source": [
    "A.mean()"
   ]
  },
  {
   "cell_type": "code",
   "execution_count": 12,
   "id": "f1e95c35",
   "metadata": {},
   "outputs": [
    {
     "name": "stdout",
     "output_type": "stream",
     "text": [
      "[1, 2, 3, 4, 5, 6, 7, 8, 9]\n"
     ]
    }
   ],
   "source": [
    "a.sort()\n",
    "print(a)"
   ]
  },
  {
   "cell_type": "code",
   "execution_count": 18,
   "id": "d95d0315",
   "metadata": {},
   "outputs": [
    {
     "data": {
      "text/plain": [
       "array([[1.5, 2. , 3. ],\n",
       "       [4. , 5. , 6. ]])"
      ]
     },
     "execution_count": 18,
     "metadata": {},
     "output_type": "execute_result"
    }
   ],
   "source": [
    "b = np.array([(1.5, 2, 3), (4, 5, 6)])\n",
    "b"
   ]
  },
  {
   "cell_type": "code",
   "execution_count": 19,
   "id": "b493976c",
   "metadata": {},
   "outputs": [
    {
     "name": "stdout",
     "output_type": "stream",
     "text": [
      "['DA' 'UI' 'Web']\n"
     ]
    }
   ],
   "source": [
    "arr = np.array(['Web', 'DA', 'UI'])\n",
    "print(np.sort(arr))"
   ]
  },
  {
   "cell_type": "code",
   "execution_count": 24,
   "id": "998aa9fe",
   "metadata": {},
   "outputs": [
    {
     "data": {
      "text/plain": [
       "24"
      ]
     },
     "execution_count": 24,
     "metadata": {},
     "output_type": "execute_result"
    }
   ],
   "source": [
    "(lambda x: x*2)(12)\n",
    "# mostly for simple functions"
   ]
  },
  {
   "cell_type": "code",
   "execution_count": 25,
   "id": "0d66d5a9",
   "metadata": {},
   "outputs": [
    {
     "data": {
      "text/plain": [
       "[2, 4, 6, 8]"
      ]
     },
     "execution_count": 25,
     "metadata": {},
     "output_type": "execute_result"
    }
   ],
   "source": [
    "list_1 = [1,2,3,4,5,6,7,8,9]\n",
    "filter(lambda x: x%2==0, list_1)\n",
    "list(filter(lambda x: x%2==0, list_1))"
   ]
  },
  {
   "cell_type": "code",
   "execution_count": 26,
   "id": "38d391ca",
   "metadata": {},
   "outputs": [
    {
     "data": {
      "text/plain": [
       "[1, 8, 27, 64, 125, 216, 343, 512, 729]"
      ]
     },
     "execution_count": 26,
     "metadata": {},
     "output_type": "execute_result"
    }
   ],
   "source": [
    "list_1 = [1,2,3,4,5,6,7,8,9]\n",
    "cubed = map(lambda x: pow(x,3), list_1)\n",
    "list(cubed)"
   ]
  },
  {
   "cell_type": "code",
   "execution_count": 28,
   "id": "267273b0",
   "metadata": {},
   "outputs": [
    {
     "data": {
      "text/plain": [
       "array([10, 20, 30, 40])"
      ]
     },
     "execution_count": 28,
     "metadata": {},
     "output_type": "execute_result"
    }
   ],
   "source": [
    "e = np.arange(10, 50, 10)\n",
    "e"
   ]
  },
  {
   "cell_type": "code",
   "execution_count": 29,
   "id": "ae206c1b",
   "metadata": {},
   "outputs": [
    {
     "data": {
      "text/plain": [
       "array([[[0., 0., 0.],\n",
       "        [0., 0., 0.],\n",
       "        [0., 0., 0.],\n",
       "        [0., 0., 0.]],\n",
       "\n",
       "       [[0., 0., 0.],\n",
       "        [0., 0., 0.],\n",
       "        [0., 0., 0.],\n",
       "        [0., 0., 0.]],\n",
       "\n",
       "       [[0., 0., 0.],\n",
       "        [0., 0., 0.],\n",
       "        [0., 0., 0.],\n",
       "        [0., 0., 0.]],\n",
       "\n",
       "       [[0., 0., 0.],\n",
       "        [0., 0., 0.],\n",
       "        [0., 0., 0.],\n",
       "        [0., 0., 0.]],\n",
       "\n",
       "       [[0., 0., 0.],\n",
       "        [0., 0., 0.],\n",
       "        [0., 0., 0.],\n",
       "        [0., 0., 0.]]])"
      ]
     },
     "execution_count": 29,
     "metadata": {},
     "output_type": "execute_result"
    }
   ],
   "source": [
    "d = np.zeros((5, 4, 3))\n",
    "d"
   ]
  },
  {
   "cell_type": "code",
   "execution_count": 30,
   "id": "508eee22",
   "metadata": {},
   "outputs": [
    {
     "data": {
      "text/plain": [
       "array([ 5, 15, 25, 35])"
      ]
     },
     "execution_count": 30,
     "metadata": {},
     "output_type": "execute_result"
    }
   ],
   "source": [
    "f = e-5\n",
    "f"
   ]
  },
  {
   "cell_type": "code",
   "execution_count": 31,
   "id": "5f434299",
   "metadata": {},
   "outputs": [
    {
     "data": {
      "text/plain": [
       "array([10, 30, 50, 70])"
      ]
     },
     "execution_count": 31,
     "metadata": {},
     "output_type": "execute_result"
    }
   ],
   "source": [
    "f1 = f*2\n",
    "f1"
   ]
  },
  {
   "cell_type": "code",
   "execution_count": 32,
   "id": "aa6114e7",
   "metadata": {},
   "outputs": [
    {
     "data": {
      "text/plain": [
       "array([[1, 1],\n",
       "       [0, 1]])"
      ]
     },
     "execution_count": 32,
     "metadata": {},
     "output_type": "execute_result"
    }
   ],
   "source": [
    "A = np.array([[1,1], [0,1]])\n",
    "A"
   ]
  },
  {
   "cell_type": "code",
   "execution_count": 33,
   "id": "023b4c08",
   "metadata": {},
   "outputs": [
    {
     "data": {
      "text/plain": [
       "array([2.05833592e-312, 2.33419537e-312])"
      ]
     },
     "execution_count": 33,
     "metadata": {},
     "output_type": "execute_result"
    }
   ],
   "source": [
    "np.empty(2)"
   ]
  },
  {
   "cell_type": "code",
   "execution_count": 34,
   "id": "df945fde",
   "metadata": {},
   "outputs": [
    {
     "data": {
      "text/plain": [
       "array([[1.5, 2. , 3. ],\n",
       "       [4. , 5. , 6. ]])"
      ]
     },
     "execution_count": 34,
     "metadata": {},
     "output_type": "execute_result"
    }
   ],
   "source": [
    "np.empty([2, 3])"
   ]
  },
  {
   "cell_type": "code",
   "execution_count": 35,
   "id": "0ef670df",
   "metadata": {},
   "outputs": [
    {
     "name": "stdout",
     "output_type": "stream",
     "text": [
      "[[   0    1    2 ...   97   98   99]\n",
      " [ 100  101  102 ...  197  198  199]\n",
      " [ 200  201  202 ...  297  298  299]\n",
      " ...\n",
      " [9700 9701 9702 ... 9797 9798 9799]\n",
      " [9800 9801 9802 ... 9897 9898 9899]\n",
      " [9900 9901 9902 ... 9997 9998 9999]]\n"
     ]
    }
   ],
   "source": [
    "print(np.arange(10000).reshape(100, 100))"
   ]
  },
  {
   "cell_type": "code",
   "execution_count": 36,
   "id": "1eb9d7cf",
   "metadata": {},
   "outputs": [
    {
     "data": {
      "text/plain": [
       "array([[ 1,  2],\n",
       "       [ 3,  4],\n",
       "       [ 5,  6],\n",
       "       [ 7,  8],\n",
       "       [ 9, 10],\n",
       "       [11, 12]])"
      ]
     },
     "execution_count": 36,
     "metadata": {},
     "output_type": "execute_result"
    }
   ],
   "source": [
    "h = np.array([1, 2, 3, 4, 5, 6, 7, 8, 9, 10, 11, 12])\n",
    "new_h = h.reshape(6, 2)\n",
    "new_h"
   ]
  },
  {
   "cell_type": "code",
   "execution_count": 37,
   "id": "36f3f9dc",
   "metadata": {},
   "outputs": [
    {
     "data": {
      "text/plain": [
       "array([[ 1,  2],\n",
       "       [ 4,  6],\n",
       "       [ 9, 12],\n",
       "       [16, 20],\n",
       "       [25, 30],\n",
       "       [36, 42]])"
      ]
     },
     "execution_count": 37,
     "metadata": {},
     "output_type": "execute_result"
    }
   ],
   "source": [
    "new_h.cumsum(axis=0)"
   ]
  },
  {
   "cell_type": "code",
   "execution_count": 38,
   "id": "cd9e4d8a",
   "metadata": {},
   "outputs": [
    {
     "data": {
      "text/plain": [
       "array([[ 1,  3],\n",
       "       [ 3,  7],\n",
       "       [ 5, 11],\n",
       "       [ 7, 15],\n",
       "       [ 9, 19],\n",
       "       [11, 23]])"
      ]
     },
     "execution_count": 38,
     "metadata": {},
     "output_type": "execute_result"
    }
   ],
   "source": [
    "new_h.cumsum(axis=1)"
   ]
  },
  {
   "cell_type": "code",
   "execution_count": 39,
   "id": "b717c6f2",
   "metadata": {},
   "outputs": [
    {
     "name": "stdout",
     "output_type": "stream",
     "text": [
      "[1 2 3]\n",
      "1\n",
      "2\n",
      "3\n",
      "[4 5 6]\n",
      "4\n",
      "5\n",
      "6\n"
     ]
    }
   ],
   "source": [
    "arr = np.array([[1,2,3],[4,5,6]])\n",
    "for x in arr:\n",
    "    print(x)\n",
    "    for y in x:\n",
    "        print(y)"
   ]
  },
  {
   "cell_type": "code",
   "execution_count": 40,
   "id": "26217704",
   "metadata": {},
   "outputs": [
    {
     "name": "stdout",
     "output_type": "stream",
     "text": [
      "['DA' 'UI' 'Web']\n"
     ]
    }
   ],
   "source": [
    "arr = np.array(['Web', 'DA', 'UI'])\n",
    "print(np.sort(arr))"
   ]
  },
  {
   "cell_type": "code",
   "execution_count": 41,
   "id": "ff74aa14",
   "metadata": {},
   "outputs": [
    {
     "data": {
      "text/plain": [
       "array([[[[0.37361063, 0.67377574],\n",
       "         [0.12989323, 0.82167237],\n",
       "         [0.5331494 , 0.15842327]],\n",
       "\n",
       "        [[0.08596679, 0.07481569],\n",
       "         [0.58929408, 0.22888102],\n",
       "         [0.06447179, 0.58397374]],\n",
       "\n",
       "        [[0.92779264, 0.28302836],\n",
       "         [0.50583746, 0.33793771],\n",
       "         [0.41738282, 0.51927045]],\n",
       "\n",
       "        [[0.29652369, 0.71364712],\n",
       "         [0.08774644, 0.11209177],\n",
       "         [0.01170257, 0.50129345]]],\n",
       "\n",
       "\n",
       "       [[[0.96739111, 0.25066147],\n",
       "         [0.922085  , 0.58936051],\n",
       "         [0.0071643 , 0.85538194]],\n",
       "\n",
       "        [[0.05669646, 0.29880961],\n",
       "         [0.42217281, 0.49622747],\n",
       "         [0.72904157, 0.18357135]],\n",
       "\n",
       "        [[0.93127409, 0.91923112],\n",
       "         [0.35014953, 0.67093176],\n",
       "         [0.67275842, 0.55576337]],\n",
       "\n",
       "        [[0.28494396, 0.50673024],\n",
       "         [0.6059337 , 0.12387957],\n",
       "         [0.9630791 , 0.56368621]]],\n",
       "\n",
       "\n",
       "       [[[0.06318022, 0.88343541],\n",
       "         [0.96889595, 0.17255761],\n",
       "         [0.03741904, 0.90068928]],\n",
       "\n",
       "        [[0.32240267, 0.71965009],\n",
       "         [0.41732817, 0.60147528],\n",
       "         [0.8911911 , 0.93373212]],\n",
       "\n",
       "        [[0.60559426, 0.12264799],\n",
       "         [0.74445141, 0.16294248],\n",
       "         [0.47721544, 0.48864386]],\n",
       "\n",
       "        [[0.16038553, 0.88675134],\n",
       "         [0.58682453, 0.98002471],\n",
       "         [0.17370249, 0.77304968]]],\n",
       "\n",
       "\n",
       "       [[[0.43818521, 0.98063247],\n",
       "         [0.58291359, 0.71921143],\n",
       "         [0.18976276, 0.90105842]],\n",
       "\n",
       "        [[0.91728564, 0.60884063],\n",
       "         [0.79997934, 0.5989423 ],\n",
       "         [0.85737483, 0.38177253]],\n",
       "\n",
       "        [[0.96393651, 0.65526359],\n",
       "         [0.43751316, 0.64944496],\n",
       "         [0.38203452, 0.58695462]],\n",
       "\n",
       "        [[0.74398919, 0.39255725],\n",
       "         [0.5662638 , 0.79545946],\n",
       "         [0.89283175, 0.95443219]]],\n",
       "\n",
       "\n",
       "       [[[0.6464137 , 0.65963627],\n",
       "         [0.89166586, 0.617142  ],\n",
       "         [0.60123736, 0.4873051 ]],\n",
       "\n",
       "        [[0.23324154, 0.45209539],\n",
       "         [0.83596014, 0.8985391 ],\n",
       "         [0.44304674, 0.64309027]],\n",
       "\n",
       "        [[0.6704271 , 0.73518278],\n",
       "         [0.21026729, 0.87373582],\n",
       "         [0.18520079, 0.40907766]],\n",
       "\n",
       "        [[0.0317471 , 0.97911223],\n",
       "         [0.21947612, 0.4394306 ],\n",
       "         [0.42946092, 0.88303616]]]])"
      ]
     },
     "execution_count": 41,
     "metadata": {},
     "output_type": "execute_result"
    }
   ],
   "source": [
    "a=np.random.random((2,2))\n",
    "b=np.random.random((4,3,2))\n",
    "c=np.random.random((5,4,3,2))\n",
    "c"
   ]
  },
  {
   "cell_type": "code",
   "execution_count": 42,
   "id": "92f83037",
   "metadata": {},
   "outputs": [
    {
     "name": "stdout",
     "output_type": "stream",
     "text": [
      "[0.06447179 0.58397374]\n"
     ]
    }
   ],
   "source": [
    "print(c[0, 1, 2])"
   ]
  },
  {
   "cell_type": "code",
   "execution_count": null,
   "id": "adad43cc",
   "metadata": {},
   "outputs": [],
   "source": []
  }
 ],
 "metadata": {
  "kernelspec": {
   "display_name": "Python 3 (ipykernel)",
   "language": "python",
   "name": "python3"
  },
  "language_info": {
   "codemirror_mode": {
    "name": "ipython",
    "version": 3
   },
   "file_extension": ".py",
   "mimetype": "text/x-python",
   "name": "python",
   "nbconvert_exporter": "python",
   "pygments_lexer": "ipython3",
   "version": "3.9.7"
  }
 },
 "nbformat": 4,
 "nbformat_minor": 5
}
