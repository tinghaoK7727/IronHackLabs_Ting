{
 "cells": [
  {
   "cell_type": "code",
   "execution_count": 33,
   "id": "00ff4f4e",
   "metadata": {},
   "outputs": [
    {
     "name": "stdout",
     "output_type": "stream",
     "text": [
      "Enter minimum string length: 8\n",
      "Enter maximum string length: 22\n",
      "How many random strings to generate? 6\n",
      "['uyuosq49', '42p2xgc26c23f094', 'xl5w8n3u75f55', 'tvppq4gzr64vmeul5z4', 'wq8jgn5v', 'j7qzf56cma3xt']\n"
     ]
    }
   ],
   "source": [
    "exec(open(\"challenge-2.py\").read())"
   ]
  },
  {
   "cell_type": "code",
   "execution_count": 29,
   "id": "ed1707cb",
   "metadata": {},
   "outputs": [],
   "source": [
    "# Original code"
   ]
  },
  {
   "cell_type": "code",
   "execution_count": 35,
   "id": "cc8fd5ae",
   "metadata": {},
   "outputs": [
    {
     "name": "stdout",
     "output_type": "stream",
     "text": [
      "Enter minimum string length: 20\n",
      "Enter maximum string length: 50\n",
      "How many random strings to generate? 12\n",
      "['7k7ddyztxyewg9bt2ux718n8rk7qc', 'nblwhapvl4t7qydol8bk4b2ksh5g', 'dghxve09ubxyjvko7tgdrhnalml9zr5uqxgspwih1eu', 'po2nnpoaf36qa41w5dt77slz0qecgow47ik2gi4zzzle', '352ilxf8zobir098s5vv63cxq9bi51o3shv9686puig2jcel', 'rxb6jddoqs4phq3k0v5tfzokis0puiyco42cgi9x', 'f78nn8o22pfmnj43tazipsai0z', '00rt7tdgcd78zcwa67700cn9snr', 'l7xlac98r3z0mnsbe0gtdo3pnitxuruqgvbn5', 'yanm50brnvheguf7zjz4u6', 'y4ascds2e9f98b41oum8zv7qqkxiovj3aoad', '19rh13y03oyhl2t2dz2y0196cdsba1orof8edm']\n"
     ]
    }
   ],
   "source": [
    "\"\"\"\n",
    "The code below generates a given number of random strings that consists of numbers and \n",
    "lower case English letters. You can also define the range of the variable lengths of\n",
    "the strings being generated.\n",
    "\n",
    "The code is functional but has a lot of room for improvement. Use what you have learned\n",
    "about simple and efficient code, refactor the code.\n",
    "\"\"\"\n",
    "\n",
    "def RandomStringGenerator(l=12, a=['a','b','c','d','e','f','g','h','i','j','k','l','m','n','o','p','q','r','s','t','u','v','w','x','y','z','0','1','2','3','4','5','6','7','8','9']):\n",
    "    p = 0\n",
    "    s = ''\n",
    "    while p<l:\n",
    "        import random\n",
    "        s += random.choice(a)\n",
    "        p += 1\n",
    "    return s\n",
    "\n",
    "def BatchStringGenerator(n, a=8, b=12):\n",
    "    r = []\n",
    "    for i in range(n):\n",
    "        c = None\n",
    "        if a < b:\n",
    "            import random\n",
    "            c = random.choice(range(a, b))\n",
    "        elif a == b:\n",
    "            c = a\n",
    "        else:\n",
    "            import sys\n",
    "            sys.exit('Incorrect min and max string lengths. Try again.')\n",
    "        r.append(RandomStringGenerator(c))\n",
    "    return r\n",
    "\n",
    "a = input('Enter minimum string length: ')\n",
    "b = input('Enter maximum string length: ')\n",
    "n = input('How many random strings to generate? ')\n",
    "\n",
    "print(BatchStringGenerator(int(n), int(a), int(b)))"
   ]
  },
  {
   "cell_type": "code",
   "execution_count": 31,
   "id": "0f7f2e29",
   "metadata": {},
   "outputs": [],
   "source": [
    "# My version"
   ]
  },
  {
   "cell_type": "code",
   "execution_count": 58,
   "id": "55f9b0d9",
   "metadata": {},
   "outputs": [
    {
     "name": "stdout",
     "output_type": "stream",
     "text": [
      "Enter minimum string length: 5\n",
      "Enter maximum string length: 12\n",
      "How many random strings to generate? 10\n",
      "['9aco0h2k942', 'ktgxw', '215qi', 'lwi0n3v', 'iecpyue', 'sb3iy9', 'h5ntm', 'n2vlk6j', 'we5h4k841j9', 'ojnn9j']\n"
     ]
    }
   ],
   "source": [
    "import random\n",
    "import string\n",
    "\n",
    "a = input('Enter minimum string length: ')\n",
    "b = input('Enter maximum string length: ')\n",
    "n = input('How many random strings to generate? ')\n",
    "\n",
    "final_list = []\n",
    "for i in range(int(n)):\n",
    "    string_length = (random.choice(range(int(a), int(b))))\n",
    "    final_list.append((''.join(random.choices(string.digits + string.ascii_lowercase, k= string_length ))))\n",
    "print(final_list)"
   ]
  }
 ],
 "metadata": {
  "kernelspec": {
   "display_name": "Python 3 (ipykernel)",
   "language": "python",
   "name": "python3"
  },
  "language_info": {
   "codemirror_mode": {
    "name": "ipython",
    "version": 3
   },
   "file_extension": ".py",
   "mimetype": "text/x-python",
   "name": "python",
   "nbconvert_exporter": "python",
   "pygments_lexer": "ipython3",
   "version": "3.9.7"
  }
 },
 "nbformat": 4,
 "nbformat_minor": 5
}
