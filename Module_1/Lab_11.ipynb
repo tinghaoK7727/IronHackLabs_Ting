{
 "cells": [
  {
   "cell_type": "code",
   "execution_count": 3,
   "id": "b4c88ede",
   "metadata": {},
   "outputs": [
    {
     "data": {
      "text/plain": [
       "[5, 5, 3, 5, 9, 3, 8, 6]"
      ]
     },
     "execution_count": 3,
     "metadata": {},
     "output_type": "execute_result"
    }
   ],
   "source": [
    "# Define a method/function that removes from a given array of integers all the values contained in a second array.\n",
    "\n",
    "def remove_list(integer_list, value_list):\n",
    "    ls = []\n",
    "    for i in integer_list:\n",
    "        if i not in value_list:\n",
    "            ls.append(i)\n",
    "        else:\n",
    "            continue\n",
    "    return ls\n",
    "\n",
    "integer_list = [1, 5, 7, 5, 3, 0, 7, 5, 7, 9, 7, 3, 8, 6]\n",
    "value_list = [1, 0, 2, 7]\n",
    "remove_list(integer_list, value_list)"
   ]
  },
  {
   "cell_type": "code",
   "execution_count": 14,
   "id": "3b3aa1d7",
   "metadata": {},
   "outputs": [
    {
     "name": "stdout",
     "output_type": "stream",
     "text": [
      "[(1, 2), (2, 3), (3, 3), (0, 0), (7, 3)]\n"
     ]
    }
   ],
   "source": [
    "# We need a method in the List Class that may count specific digits from a given list of integers. This marked digits \n",
    "# will be given in a second list. The method .count_spec_digits()/.countSpecDigits() will accept two arguments, a list \n",
    "# of an uncertain amount of integers integers_lists/integersLists (and of an uncertain amount of digits, too) and a \n",
    "# second list, digits_list/digitsList that has the specific digits to count which length cannot be be longer than 10 \n",
    "# (It's obvious, we've got ten digits). The method will output a list of tuples, each tuple having two elements, the \n",
    "# first one will be a digit to count, and second one, its corresponding total frequency in all the integers of the \n",
    "# first list. This list of tuples should be ordered with the same order that the digits have in digitsList\n",
    "\n",
    "def count_spec_digits(integer_list, value_list):\n",
    "    outcome = []\n",
    "    for i in range(len(value_list)):\n",
    "        value_list[i] = str(value_list[i])\n",
    "    for i in range(len(integer_list)):\n",
    "        integer_list[i] = str(integer_list[i])\n",
    "    for i in value_list:\n",
    "        count = 0\n",
    "        for j in integer_list:\n",
    "            count += j.count(i)\n",
    "        outcome.append((int(i), count))\n",
    "    return outcome\n",
    "\n",
    "integer_list = [1, 2, 3, 2, 1, 2, 5, 7, 8, 6, 7, 7, 3, 3]\n",
    "value_list = [1, 2, 3, 0, 7]\n",
    "check = count_spec_digits(integer_list, value_list)\n",
    "print(check)"
   ]
  },
  {
   "cell_type": "code",
   "execution_count": 79,
   "id": "6f02eecc",
   "metadata": {},
   "outputs": [
    {
     "name": "stdout",
     "output_type": "stream",
     "text": [
      "[('a', 5), ('b', 2), ('r', 2), ('c', 1), ('d', 1)]\n",
      "[('m', 1), ('i', 4), ('s', 4), ('p', 2)]\n"
     ]
    }
   ],
   "source": [
    "# Count the number of occurrences of each character and return it as a list of tuples in order of appearance. \n",
    "# For empty output return an empty list.\n",
    "\n",
    "# Example:\n",
    "\n",
    "# ordered_count(\"abracadabra\") == [('a', 5), ('b', 2), ('r', 2), ('c', 1), ('d', 1)]\n",
    "\n",
    "\n",
    "def count_char(word):\n",
    "    outcome = []\n",
    "    passed = []\n",
    "    for i in word:\n",
    "        if i not in passed:\n",
    "            outcome.append((i, word.count(i)))\n",
    "            passed.append(i)\n",
    "    print(outcome)\n",
    "\n",
    "count_char(\"abracadabra\")        \n",
    "count_char(\"mississippi\")"
   ]
  }
 ],
 "metadata": {
  "kernelspec": {
   "display_name": "Python 3 (ipykernel)",
   "language": "python",
   "name": "python3"
  },
  "language_info": {
   "codemirror_mode": {
    "name": "ipython",
    "version": 3
   },
   "file_extension": ".py",
   "mimetype": "text/x-python",
   "name": "python",
   "nbconvert_exporter": "python",
   "pygments_lexer": "ipython3",
   "version": "3.9.7"
  }
 },
 "nbformat": 4,
 "nbformat_minor": 5
}
